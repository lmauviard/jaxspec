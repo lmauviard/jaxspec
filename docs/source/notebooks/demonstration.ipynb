{
 "cells": [
  {
   "cell_type": "markdown",
   "source": [
    "# Demonstration\n",
    "\n",
    "This package relies heavily on haiku, which is a package that makes it easy to build jax-compatible modules while managing parameter access. The main idea is to create your own haiku using different modules that already exist, and to assemble them as you wish. In the following, we create a classical `tbabs*powerlaw` model as `xspec` would have done."
   ],
   "metadata": {
    "collapsed": false
   }
  },
  {
   "cell_type": "code",
   "execution_count": 7,
   "outputs": [],
   "source": [
    "import haiku as hk\n",
    "from jaxspec.model.additive import Powerlaw\n",
    "from jaxspec.model.multiplicative import TbAbs\n",
    "\n",
    "@hk.without_apply_rng\n",
    "@hk.transform\n",
    "def model(energy):\n",
    "\n",
    "    pl = Powerlaw()\n",
    "    tbabs = TbAbs()\n",
    "\n",
    "    return pl(energy)*tbabs(energy)"
   ],
   "metadata": {
    "collapsed": false
   }
  },
  {
   "cell_type": "markdown",
   "source": [
    "In this code, the `model` is an `haiku.Transformed` object, which distantagle between function and parameters. It carries two methods :\n",
    "* `init(PRNGkey, value)` return the initialization in term of model parameters\n",
    "* `apply(params, value)` return the function evaluated at `value` with the parameters `params` (note that this doesn't require a `PRNGKey` as we stated that our function in deterministic)\n",
    "Let's see how this works :"
   ],
   "metadata": {
    "collapsed": false
   }
  },
  {
   "cell_type": "code",
   "execution_count": 8,
   "outputs": [
    {
     "data": {
      "text/plain": "{'powerlaw': {'alpha': DeviceArray(3.6666667, dtype=float32),\n  'norm': DeviceArray(1., dtype=float32)},\n 'tb_abs': {'N_H': DeviceArray(1., dtype=float32)}}"
     },
     "execution_count": 8,
     "metadata": {},
     "output_type": "execute_result"
    }
   ],
   "source": [
    "parameters = model.init(None, 1.)\n",
    "parameters"
   ],
   "metadata": {
    "collapsed": false
   }
  },
  {
   "cell_type": "markdown",
   "source": [
    "Here, we asked the structure of the parameters of our model. It was initialized using dummy default values. Next, let's use these parameters to plot our model :"
   ],
   "metadata": {
    "collapsed": false
   }
  },
  {
   "cell_type": "code",
   "execution_count": 9,
   "outputs": [
    {
     "data": {
      "text/plain": "[]"
     },
     "execution_count": 9,
     "metadata": {},
     "output_type": "execute_result"
    },
    {
     "data": {
      "text/plain": "<Figure size 432x288 with 1 Axes>",
      "image/png": "[encoded data removed]"
     },
     "metadata": {
      "needs_background": "light"
     },
     "output_type": "display_data"
    }
   ],
   "source": [
    "import jax.numpy as jnp\n",
    "import matplotlib.pyplot as plt\n",
    "\n",
    "energy = jnp.geomspace(0.3, 15, 200)\n",
    "\n",
    "plt.plot(energy, model.apply(parameters, energy))\n",
    "plt.xlabel('Energy [keV]')\n",
    "plt.ylabel('Model [ct/s/cm2]')\n",
    "plt.loglog()"
   ],
   "metadata": {
    "collapsed": false
   }
  },
  {
   "cell_type": "markdown",
   "source": [
    "It seems to work pretty well!"
   ],
   "metadata": {
    "collapsed": false
   }
  }
 ],
 "metadata": {
  "kernelspec": {
   "display_name": "Python 3",
   "language": "python",
   "name": "python3"
  },
  "language_info": {
   "codemirror_mode": {
    "name": "ipython",
    "version": 2
   },
   "file_extension": ".py",
   "mimetype": "text/x-python",
   "name": "python",
   "nbconvert_exporter": "python",
   "pygments_lexer": "ipython2",
   "version": "2.7.6"
  }
 },
 "nbformat": 4,
 "nbformat_minor": 0
}
