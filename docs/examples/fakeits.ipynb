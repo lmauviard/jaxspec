{
 "cells": [
  {
   "cell_type": "markdown",
   "source": [
    "# Generate mock data\n",
    "\n",
    "This tutorial illustrates how to make generate mock observed spectra using `fakeit` - like interface\n",
    "as proposed by XSPEC."
   ],
   "metadata": {
    "collapsed": false
   },
   "id": "f206402b05a08107"
  },
  {
   "cell_type": "code",
   "execution_count": 1,
   "id": "initial_id",
   "metadata": {
    "collapsed": true,
    "ExecuteTime": {
     "end_time": "2023-11-02T10:18:19.683636Z",
     "start_time": "2023-11-02T10:18:18.433267Z"
    }
   },
   "outputs": [],
   "source": [
    "import numpyro\n",
    "from jax.config import config\n",
    "\n",
    "config.update(\"jax_enable_x64\", True)\n",
    "numpyro.set_platform(\"cpu\")\n",
    "#numpyro.set_host_device_count(4)"
   ]
  },
  {
   "cell_type": "markdown",
   "source": [
    "Let's build a model we want to fake"
   ],
   "metadata": {
    "collapsed": false
   },
   "id": "dd9083e4e3c2fd2d"
  },
  {
   "cell_type": "code",
   "execution_count": 2,
   "outputs": [],
   "source": [
    "from jaxspec.model.additive import Powerlaw, Blackbodyrad\n",
    "from jaxspec.model.multiplicative import Tbabs\n",
    "\n",
    "model = Tbabs() * (Powerlaw() + Blackbodyrad())"
   ],
   "metadata": {
    "collapsed": false,
    "ExecuteTime": {
     "end_time": "2023-11-02T10:18:21.596108Z",
     "start_time": "2023-11-02T10:18:19.689088Z"
    }
   },
   "id": "3514e07e1bd138e5"
  },
  {
   "cell_type": "markdown",
   "source": [
    "Let's load an observation with the instrumental setup which should be applied"
   ],
   "metadata": {
    "collapsed": false
   },
   "id": "29cea25e570f3d2b"
  },
  {
   "cell_type": "code",
   "execution_count": 3,
   "outputs": [],
   "source": [
    "from jaxspec.data.util import example_observations as obs_list\n",
    "\n",
    "obs = obs_list[\"PN\"]"
   ],
   "metadata": {
    "collapsed": false,
    "ExecuteTime": {
     "end_time": "2023-11-02T10:18:23.640914Z",
     "start_time": "2023-11-02T10:18:21.598078Z"
    }
   },
   "id": "2468f9f9112136c1"
  },
  {
   "cell_type": "markdown",
   "source": [
    "Ideally you would like to load your data\n",
    "\n",
    "```python\n",
    "from jaxspec.data.observation import Observation\n",
    "obs = Observation.from_pha_file(\"my_data.pha\", low_energy=0.3, high_energy=10)\n",
    "```\n",
    "\n",
    "Let's do fakeit for a bunch of parameters"
   ],
   "metadata": {
    "collapsed": false
   },
   "id": "6fe295e315d64ee9"
  },
  {
   "cell_type": "code",
   "execution_count": 4,
   "outputs": [],
   "source": [
    "from numpy.random import default_rng\n",
    "\n",
    "rng = default_rng(42)\n",
    "\n",
    "num_params = 10000\n",
    "parameters = {\n",
    "    \"tbabs_1\": {\"N_H\": rng.uniform(0.1, 0.4, size=num_params)},\n",
    "    \"powerlaw_1\": {\"alpha\": rng.uniform(1, 3, size=num_params), \"norm\": rng.exponential(10 ** (-0.5), size=num_params)},\n",
    "    \"blackbodyrad_1\": {\"kT\": rng.uniform(0.1, 3.0, size=num_params), \"norm\": rng.exponential(10 ** (-3), size=num_params)},\n",
    "}"
   ],
   "metadata": {
    "collapsed": false,
    "ExecuteTime": {
     "end_time": "2023-11-02T10:18:23.648609Z",
     "start_time": "2023-11-02T10:18:23.645938Z"
    }
   },
   "id": "e0f3c4fb835d8285"
  },
  {
   "cell_type": "markdown",
   "source": [
    "And now we can fakeit!"
   ],
   "metadata": {
    "collapsed": false
   },
   "id": "4dcb0a2918e9b866"
  },
  {
   "cell_type": "code",
   "execution_count": 5,
   "outputs": [],
   "source": [
    "from jaxspec.data.util import fakeit_for_multiple_parameters\n",
    "spectra = fakeit_for_multiple_parameters(obs, model, parameters)"
   ],
   "metadata": {
    "collapsed": false,
    "ExecuteTime": {
     "end_time": "2023-11-02T10:18:28.062721Z",
     "start_time": "2023-11-02T10:18:23.652841Z"
    }
   },
   "id": "d3ed1446971db411"
  },
  {
   "cell_type": "markdown",
   "source": [
    "Let's plot the results"
   ],
   "metadata": {
    "collapsed": false
   },
   "id": "75cb0fac547004bb"
  },
  {
   "cell_type": "code",
   "execution_count": 6,
   "outputs": [
    {
     "data": {
      "text/plain": "<Figure size 640x480 with 1 Axes>",
      "image/png": "[encoded data removed]"
     },
     "metadata": {},
     "output_type": "display_data"
    }
   ],
   "source": [
    "import numpy as np\n",
    "import matplotlib.pyplot as plt\n",
    "\n",
    "plt.step(obs.out_energies[0], np.median(spectra, axis=0), where=\"post\", label=r\"median\")\n",
    "\n",
    "plt.fill_between(\n",
    "    obs.out_energies[0],\n",
    "    *np.percentile(spectra, [14, 86], axis=0),\n",
    "    alpha=0.3,\n",
    "    step=\"post\",\n",
    "    label=r\"$1-\\sigma$ bands\",\n",
    ")\n",
    "\n",
    "plt.xlabel(\"Energy [keV]\")\n",
    "plt.ylabel(\"Counts\")\n",
    "plt.loglog();"
   ],
   "metadata": {
    "collapsed": false,
    "ExecuteTime": {
     "end_time": "2023-11-02T10:18:28.562352Z",
     "start_time": "2023-11-02T10:18:28.069329Z"
    }
   },
   "id": "5153860bdde0d680"
  },
  {
   "cell_type": "markdown",
   "source": [
    "This could be run on the GPU so it goes even faster! Or be properly parallelized to run on multiple cores of your CPU, this will be implemented at some point. Stay tuned!"
   ],
   "metadata": {
    "collapsed": false
   },
   "id": "d7d8afb97b15ac8e"
  }
 ],
 "metadata": {
  "kernelspec": {
   "display_name": "Python 3",
   "language": "python",
   "name": "python3"
  },
  "language_info": {
   "codemirror_mode": {
    "name": "ipython",
    "version": 2
   },
   "file_extension": ".py",
   "mimetype": "text/x-python",
   "name": "python",
   "nbconvert_exporter": "python",
   "pygments_lexer": "ipython2",
   "version": "2.7.6"
  }
 },
 "nbformat": 4,
 "nbformat_minor": 5
}
