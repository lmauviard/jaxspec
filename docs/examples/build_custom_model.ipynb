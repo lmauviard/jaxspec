{
 "cells": [
  {
   "cell_type": "markdown",
   "source": [
    "# Build a custom component\n",
    "\n",
    "`jaxspec` enables the build of custom components. This is useful if you want to build a model with a component that is not implemented in `jaxspec`.\n",
    "\n",
    "## Additive component\n",
    "In this example, we will first build a component with a known analytical expression. Let's assume we want to model the following function:\n",
    "\n",
    "$$\n",
    "\\begin{align}\n",
    "\\mathcal{M}_\\text{add}( E ) &= K \\sin (E/E_0) \\exp (-E/E_1)\n",
    "\\end{align}\n",
    "$$\n",
    "\n",
    "Using `jaxspec`, this is fairly easy. The only thing required is that every function should be computable using `JAX` primitives. Since `JAX` implements most of the `numpy` functions and a lot of `scipy` functions (see [here](https://jax.readthedocs.io/en/latest/jax.html)), this should not be a problem in the simplest cases."
   ],
   "metadata": {
    "collapsed": false
   },
   "id": "c07be7e2f577cdd8"
  },
  {
   "cell_type": "code",
   "execution_count": 1,
   "id": "initial_id",
   "metadata": {
    "collapsed": true,
    "ExecuteTime": {
     "end_time": "2024-02-22T14:47:03.489757Z",
     "start_time": "2024-02-22T14:47:02.126978Z"
    }
   },
   "outputs": [],
   "source": [
    "import jax.numpy as jnp\n",
    "import haiku as hk\n",
    "from jaxspec.model.additive import AdditiveComponent\n",
    "\n",
    "\n",
    "class CustomAdditiveComponent(AdditiveComponent):\n",
    "    def continuum(self, energy):\n",
    "        K = hk.get_parameter(\"K\", shape=(), init=jnp.ones)\n",
    "        E0 = hk.get_parameter(\"E0\", shape=(), init=jnp.ones)\n",
    "        E1 = hk.get_parameter(\"E1\", shape=(), init=jnp.ones)\n",
    "\n",
    "        return K * jnp.sin(energy / E0) * jnp.exp(-energy / E1)"
   ]
  },
  {
   "cell_type": "markdown",
   "source": [
    "To do a quick summary of what is required to build a custom component, we need to:\n",
    "\n",
    " 1. Inherit from [`AdditiveComponent`][jaxspec.model.additive.AdditiveComponent]\n",
    " 2. Implement the `continuum` method (optional)\n",
    " 3. Implement the `emission_lines` method (optional)\n",
    " 4. Ensure that the parameters to fit are defined using [`hk.get_parameter`][haiku.get_parameter]\n",
    "\n",
    "And that's all. The newly created component is directly combinable with other components, and can be used to build more complex spectral model."
   ],
   "metadata": {
    "collapsed": false
   },
   "id": "20e95cd0c19f5908"
  },
  {
   "cell_type": "code",
   "outputs": [
    {
     "data": {
      "text/plain": "<Figure size 800x800 with 1 Axes>",
      "image/png": "[encoded data removed]"
     },
     "metadata": {},
     "output_type": "display_data"
    }
   ],
   "source": [
    "from jaxspec.model.additive import Powerlaw\n",
    "from jaxspec.model.multiplicative import Tbabs\n",
    "\n",
    "model = Tbabs() * (Powerlaw() + CustomAdditiveComponent())\n",
    "model.plot()"
   ],
   "metadata": {
    "collapsed": false,
    "ExecuteTime": {
     "end_time": "2024-02-22T14:47:05.847159Z",
     "start_time": "2024-02-22T14:47:03.490612Z"
    }
   },
   "id": "280915807d4eda39",
   "execution_count": 2
  },
  {
   "cell_type": "markdown",
   "source": [
    "Let's understand in depth this code snippet. First, we define a class that inherits from [`AdditiveComponent`](jaxspec.model.additive.AdditiveComponent). This class is an abstract class that defines the interface of an additive component. This interface is composed of two methods: [`continuum`](jaxspec.model.additive.AdditiveComponent.continuum) and [`emission_lines`](jaxspec.model.additive.AdditiveComponent.emission_lines). This functions will be called by the model to compute the continuum and the emission lines of the component.\n",
    "\n",
    "## Multiplicative component\n",
    "Let's do the same implementation for a multiplicative component. In this example, we will use the following analytical expression:\n",
    "\n",
    "$$\n",
    "\\begin{align}\n",
    "\\mathcal{M}_\\text{mul}( E ) &= | \\cos(E/E_0) |\n",
    "\\end{align}\n",
    "$$"
   ],
   "metadata": {
    "collapsed": false
   },
   "id": "1a7b56b712ce3cc3"
  },
  {
   "cell_type": "code",
   "outputs": [],
   "source": [
    "from jaxspec.model.multiplicative import MultiplicativeComponent\n",
    "\n",
    "\n",
    "class CustomMultiplicativeComponent(MultiplicativeComponent):\n",
    "    def continuum(self, energy):\n",
    "        E0 = hk.get_parameter(\"E0\", shape=(), init=jnp.ones)\n",
    "\n",
    "        return jnp.abs(jnp.cos(energy / E0))"
   ],
   "metadata": {
    "collapsed": false,
    "ExecuteTime": {
     "end_time": "2024-02-22T14:47:05.860567Z",
     "start_time": "2024-02-22T14:47:05.851732Z"
    }
   },
   "id": "1cd3dcf0a605c345",
   "execution_count": 3
  }
 ],
 "metadata": {
  "kernelspec": {
   "display_name": "Python 3",
   "language": "python",
   "name": "python3"
  },
  "language_info": {
   "codemirror_mode": {
    "name": "ipython",
    "version": 2
   },
   "file_extension": ".py",
   "mimetype": "text/x-python",
   "name": "python",
   "nbconvert_exporter": "python",
   "pygments_lexer": "ipython2",
   "version": "2.7.6"
  }
 },
 "nbformat": 4,
 "nbformat_minor": 5
}
