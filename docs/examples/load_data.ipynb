{
 "cells": [
  {
   "cell_type": "markdown",
   "source": [
    "# Load your data in JAXspec\n",
    "\n",
    "Most of the data you will use when manipulating X-ray spectra will be in the form of a PHA file. This file contains\n",
    "the measured spectra, the background spectra, and also links to the response matrix file and the ancillary response\n",
    "file. JAXspec provides a simple way to load this data using the `Observation.from_pha_file` function."
   ],
   "metadata": {
    "collapsed": false
   },
   "id": "5c4c9bca27af7485"
  },
  {
   "cell_type": "code",
   "execution_count": 2,
   "outputs": [],
   "source": [
    "from jaxspec.data.observation import Observation\n",
    "\n",
    "# observation = Observation.from_pha_file(\"obs.pha\")"
   ],
   "metadata": {
    "collapsed": false,
    "ExecuteTime": {
     "end_time": "2023-11-01T23:39:12.223918Z",
     "start_time": "2023-11-01T23:39:12.211384Z"
    }
   },
   "id": "cae2d48c77eea41a"
  },
  {
   "cell_type": "markdown",
   "source": [
    "If you only want to load the instrument related data (i.e. the response matrix and the ancillary response file), you can use the `Instrument.from_ogip_file` function."
   ],
   "metadata": {
    "collapsed": false
   },
   "id": "9d115dbaedfdbc23"
  },
  {
   "cell_type": "code",
   "execution_count": 5,
   "id": "initial_id",
   "metadata": {
    "collapsed": true,
    "ExecuteTime": {
     "end_time": "2023-11-01T23:39:38.194095Z",
     "start_time": "2023-11-01T23:39:38.179527Z"
    }
   },
   "outputs": [],
   "source": [
    "from jaxspec.data.instrument import Instrument\n",
    "\n",
    "# instrument = Instrument.from_ogip_file(\"PN.arf\", \"PN.rmf\", exposure=50_000)"
   ]
  },
  {
   "cell_type": "markdown",
   "source": [
    "This is basically the way you load data using JAXspec"
   ],
   "metadata": {
    "collapsed": false
   },
   "id": "e155c5bc5f80d428"
  }
 ],
 "metadata": {
  "kernelspec": {
   "display_name": "Python 3",
   "language": "python",
   "name": "python3"
  },
  "language_info": {
   "codemirror_mode": {
    "name": "ipython",
    "version": 2
   },
   "file_extension": ".py",
   "mimetype": "text/x-python",
   "name": "python",
   "nbconvert_exporter": "python",
   "pygments_lexer": "ipython2",
   "version": "2.7.6"
  }
 },
 "nbformat": 4,
 "nbformat_minor": 5
}
